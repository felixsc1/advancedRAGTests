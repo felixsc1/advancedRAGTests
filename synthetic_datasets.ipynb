{
 "cells": [
  {
   "cell_type": "code",
   "execution_count": 1,
   "id": "8d1a952b",
   "metadata": {},
   "outputs": [],
   "source": [
    "import pandas as pd"
   ]
  },
  {
   "cell_type": "code",
   "execution_count": 2,
   "id": "6cded5b3",
   "metadata": {},
   "outputs": [],
   "source": [
    "# emails = pd.read_csv(\"data/paul_allen_sent_emails.csv\")\n",
    "\n",
    "# alternatively, practice with my own data:\n",
    "emails = pd.read_csv(\"data/satoshi.csv\")"
   ]
  },
  {
   "cell_type": "code",
   "execution_count": 3,
   "id": "4c9d1ea9",
   "metadata": {},
   "outputs": [
    {
     "data": {
      "text/html": [
       "<div>\n",
       "<style scoped>\n",
       "    .dataframe tbody tr th:only-of-type {\n",
       "        vertical-align: middle;\n",
       "    }\n",
       "\n",
       "    .dataframe tbody tr th {\n",
       "        vertical-align: top;\n",
       "    }\n",
       "\n",
       "    .dataframe thead th {\n",
       "        text-align: right;\n",
       "    }\n",
       "</style>\n",
       "<table border=\"1\" class=\"dataframe\">\n",
       "  <thead>\n",
       "    <tr style=\"text-align: right;\">\n",
       "      <th></th>\n",
       "      <th>content</th>\n",
       "      <th>chunk_index</th>\n",
       "      <th>collection</th>\n",
       "      <th>content_type</th>\n",
       "      <th>filename</th>\n",
       "      <th>sequence_number</th>\n",
       "      <th>source</th>\n",
       "      <th>source_file</th>\n",
       "      <th>title</th>\n",
       "      <th>total_chunks</th>\n",
       "    </tr>\n",
       "  </thead>\n",
       "  <tbody>\n",
       "    <tr>\n",
       "      <th>0</th>\n",
       "      <td>Emails\\nBitcoin P2P e-cash paperOct 31, 2008, ...</td>\n",
       "      <td>0</td>\n",
       "      <td>emails</td>\n",
       "      <td>email</td>\n",
       "      <td>email_002_Cryptography_Mailing_List</td>\n",
       "      <td>2</td>\n",
       "      <td>nakamotoinstitute_files\\emails\\email_002_Crypt...</td>\n",
       "      <td>nakamotoinstitute_files\\emails\\email_002_Crypt...</td>\n",
       "      <td>Cryptography Mailing List</td>\n",
       "      <td>1</td>\n",
       "    </tr>\n",
       "    <tr>\n",
       "      <th>1</th>\n",
       "      <td>Emails\\n[p2p-research] Bitcoin open source imp...</td>\n",
       "      <td>0</td>\n",
       "      <td>emails</td>\n",
       "      <td>email</td>\n",
       "      <td>email_004_P2P_Research_List</td>\n",
       "      <td>4</td>\n",
       "      <td>nakamotoinstitute_files\\emails\\email_004_P2P_R...</td>\n",
       "      <td>nakamotoinstitute_files\\emails\\email_004_P2P_R...</td>\n",
       "      <td>P2P Research List</td>\n",
       "      <td>1</td>\n",
       "    </tr>\n",
       "    <tr>\n",
       "      <th>2</th>\n",
       "      <td>From: | Satoshi Nakamoto | Subject: | Bitcoin ...</td>\n",
       "      <td>0</td>\n",
       "      <td>emails</td>\n",
       "      <td>email</td>\n",
       "      <td>email_010_Bitcoin_P2P_e-cash_paper</td>\n",
       "      <td>10</td>\n",
       "      <td>nakamotoinstitute_files\\emails\\email_010_Bitco...</td>\n",
       "      <td>nakamotoinstitute_files\\emails\\email_010_Bitco...</td>\n",
       "      <td>Bitcoin P2P e-cash paper</td>\n",
       "      <td>1</td>\n",
       "    </tr>\n",
       "    <tr>\n",
       "      <th>3</th>\n",
       "      <td>From: | Satoshi Nakamoto | Subject: | [bitcoin...</td>\n",
       "      <td>0</td>\n",
       "      <td>emails</td>\n",
       "      <td>email</td>\n",
       "      <td>email_022_[bitcoin-list]_Welcome</td>\n",
       "      <td>22</td>\n",
       "      <td>nakamotoinstitute_files\\emails\\email_022_[bitc...</td>\n",
       "      <td>nakamotoinstitute_files\\emails\\email_022_[bitc...</td>\n",
       "      <td>[bitcoin-list] Welcome</td>\n",
       "      <td>1</td>\n",
       "    </tr>\n",
       "    <tr>\n",
       "      <th>4</th>\n",
       "      <td>From: | Satoshi Nakamoto | Subject: | [bitcoin...</td>\n",
       "      <td>0</td>\n",
       "      <td>emails</td>\n",
       "      <td>email</td>\n",
       "      <td>email_024_[bitcoin-list]_Bitcoin_v0.1.2_now_av...</td>\n",
       "      <td>24</td>\n",
       "      <td>nakamotoinstitute_files\\emails\\email_024_[bitc...</td>\n",
       "      <td>nakamotoinstitute_files\\emails\\email_024_[bitc...</td>\n",
       "      <td>[bitcoin-list] Bitcoin v0.1.2 now available</td>\n",
       "      <td>1</td>\n",
       "    </tr>\n",
       "  </tbody>\n",
       "</table>\n",
       "</div>"
      ],
      "text/plain": [
       "                                             content  chunk_index collection  \\\n",
       "0  Emails\\nBitcoin P2P e-cash paperOct 31, 2008, ...            0     emails   \n",
       "1  Emails\\n[p2p-research] Bitcoin open source imp...            0     emails   \n",
       "2  From: | Satoshi Nakamoto | Subject: | Bitcoin ...            0     emails   \n",
       "3  From: | Satoshi Nakamoto | Subject: | [bitcoin...            0     emails   \n",
       "4  From: | Satoshi Nakamoto | Subject: | [bitcoin...            0     emails   \n",
       "\n",
       "  content_type                                           filename  \\\n",
       "0        email                email_002_Cryptography_Mailing_List   \n",
       "1        email                        email_004_P2P_Research_List   \n",
       "2        email                 email_010_Bitcoin_P2P_e-cash_paper   \n",
       "3        email                   email_022_[bitcoin-list]_Welcome   \n",
       "4        email  email_024_[bitcoin-list]_Bitcoin_v0.1.2_now_av...   \n",
       "\n",
       "   sequence_number                                             source  \\\n",
       "0                2  nakamotoinstitute_files\\emails\\email_002_Crypt...   \n",
       "1                4  nakamotoinstitute_files\\emails\\email_004_P2P_R...   \n",
       "2               10  nakamotoinstitute_files\\emails\\email_010_Bitco...   \n",
       "3               22  nakamotoinstitute_files\\emails\\email_022_[bitc...   \n",
       "4               24  nakamotoinstitute_files\\emails\\email_024_[bitc...   \n",
       "\n",
       "                                         source_file  \\\n",
       "0  nakamotoinstitute_files\\emails\\email_002_Crypt...   \n",
       "1  nakamotoinstitute_files\\emails\\email_004_P2P_R...   \n",
       "2  nakamotoinstitute_files\\emails\\email_010_Bitco...   \n",
       "3  nakamotoinstitute_files\\emails\\email_022_[bitc...   \n",
       "4  nakamotoinstitute_files\\emails\\email_024_[bitc...   \n",
       "\n",
       "                                         title  total_chunks  \n",
       "0                    Cryptography Mailing List             1  \n",
       "1                            P2P Research List             1  \n",
       "2                     Bitcoin P2P e-cash paper             1  \n",
       "3                       [bitcoin-list] Welcome             1  \n",
       "4  [bitcoin-list] Bitcoin v0.1.2 now available             1  "
      ]
     },
     "execution_count": 3,
     "metadata": {},
     "output_type": "execute_result"
    }
   ],
   "source": [
    "emails.head()"
   ]
  },
  {
   "cell_type": "markdown",
   "id": "b9136bcc",
   "metadata": {},
   "source": [
    "## Prompt Engineering"
   ]
  },
  {
   "cell_type": "code",
   "execution_count": 4,
   "id": "34a7339b",
   "metadata": {},
   "outputs": [],
   "source": [
    "from jinja2 import Template\n",
    "from textwrap import dedent\n",
    "from pydantic import BaseModel"
   ]
  },
  {
   "cell_type": "code",
   "execution_count": 5,
   "id": "7ecbb384",
   "metadata": {},
   "outputs": [],
   "source": [
    "# prompt_template = Template(dedent(\n",
    "#     \"\"\"\n",
    "#     You are Paul Allen, also known as Phillip Allen, and you sent this email:\n",
    "    \n",
    "#     <email content>\n",
    "#     {{ email }}\n",
    "#     </email content>\n",
    "\n",
    "#     Your task is to generate questions that Paul Allen could ask about the email at a later date when trying to remember it.\n",
    "\n",
    "#     Guidelines:\n",
    "#     - Only ask questions that can be answered with the content of the email. Do not speculate, imagine responses, or make assumptions.\n",
    "\n",
    "#     Your output should be in JSON format, using the following schema:\n",
    "#     ```\n",
    "#     {\n",
    "#         \"questions\": [\"string 1\", \"string 2\", ...]\n",
    "#     }\n",
    "#     ```\n",
    "#     \"\"\"\n",
    "# ))\n",
    "\n",
    "\n",
    "prompt_template = Template(dedent(\n",
    "\"\"\"\n",
    "    The following is a quote, forum post, or email from Satoshi Nakamoto, the creator of Bitcoin. Use it as the sole basis for generating questions.\n",
    "    \n",
    "    <document content>\n",
    "    {{ email }}\n",
    "    </document content>\n",
    "\n",
    "    First, evaluate if the document is useful for a retrieval system (RAG) where users ask questions about Satoshi Nakamoto, his ideas, or Bitcoin's development. A document is 'useless_to_recall' if it contains no meaningful information, such as: only dates, links, HTML tags, metadata; single-word or trivial replies (e.g., 'Yes', 'Thanks'); empty content; or nothing specific/tied to Satoshi's thoughts, opinions, or technical details. If the document has any substantive content (e.g., explanations, opinions, mentions of concepts), it is useful.\n",
    "\n",
    "    Your task is to:\n",
    "    - If the document is useless, set 'useless_to_recall' to true and generate an empty list for 'questions'.\n",
    "    - If the document is useful, set 'useless_to_recall' to false and generate 3-7 diverse questions that a curious user might naturally ask about Satoshi Nakamoto, his ideas, or Bitcoin's development. These questions should be phrased such that they could be used to retrieve this specific document in a search system (e.g., via semantic matching), and the document's content would directly provide the answer or key evidence.\n",
    "\n",
    "    Guidelines for questions (only apply if useful):\n",
    "    - Questions must be standalone and natural, as if asked by someone researching Satoshi without any prior context or reference to 'the document,' 'this quote,' or 'the email.' For example, avoid: 'What is discussed in the document?' Instead, use: 'What did Satoshi Nakamoto say about peer-to-peer networks?'\n",
    "    - Only base questions on explicit information in the document. Do not speculate, add external knowledge, or assume additional details about Satoshi or Bitcoin.\n",
    "    - Ensure questions are specific to unique aspects of the document (e.g., opinions, mentions, technical details, timelines) to test precise retrieval, but keep them broad enough to sound like real user queries.\n",
    "    - Avoid vague, overly broad, or clarifying questions (e.g., no 'Can you explain more about...?'). Focus on factual, opinion-based, or existence questions like 'What was Satoshi's view on...?' or 'Did Satoshi mention...?'\n",
    "    - Promote diversity: Include a mix of question types (e.g., 2-3 what/why/how, 1-2 yes/no, 1-2 timeline-based) and cover different parts of the document without repetition.\n",
    "    - Do not generate questions that could be answered by many documents; tie them subtly to this one's content for evaluation purposes.\n",
    "\n",
    "    Your output should be in JSON format, using the following schema:\n",
    "    ```\n",
    "    {\n",
    "        \"useless_to_recall\": boolean,\n",
    "        \"questions\": [\"string 1\", \"string 2\", ...]\n",
    "    }\n",
    "    ```\n",
    "    \"\"\"\n",
    "))"
   ]
  },
  {
   "cell_type": "code",
   "execution_count": 6,
   "id": "c1ce1f1b",
   "metadata": {},
   "outputs": [
    {
     "data": {
      "text/plain": [
       "'\\nThe following is a quote, forum post, or email from Satoshi Nakamoto, the creator of Bitcoin. Use it as the sole basis for generating questions.\\n\\n<document content>\\nblabla\\n</document content>\\n\\nFirst, evaluate if the document is useful for a retrieval system (RAG) where users ask questions about Satoshi Nakamoto, his ideas, or Bitcoin\\'s development. A document is \\'useless_to_recall\\' if it contains no meaningful information, such as: only dates, links, HTML tags, metadata; single-word or trivial replies (e.g., \\'Yes\\', \\'Thanks\\'); empty content; or nothing specific/tied to Satoshi\\'s thoughts, opinions, or technical details. If the document has any substantive content (e.g., explanations, opinions, mentions of concepts), it is useful.\\n\\nYour task is to:\\n- If the document is useless, set \\'useless_to_recall\\' to true and generate an empty list for \\'questions\\'.\\n- If the document is useful, set \\'useless_to_recall\\' to false and generate 3-7 diverse questions that a curious user might naturally ask about Satoshi Nakamoto, his ideas, or Bitcoin\\'s development. These questions should be phrased such that they could be used to retrieve this specific document in a search system (e.g., via semantic matching), and the document\\'s content would directly provide the answer or key evidence.\\n\\nGuidelines for questions (only apply if useful):\\n- Questions must be standalone and natural, as if asked by someone researching Satoshi without any prior context or reference to \\'the document,\\' \\'this quote,\\' or \\'the email.\\' For example, avoid: \\'What is discussed in the document?\\' Instead, use: \\'What did Satoshi Nakamoto say about peer-to-peer networks?\\'\\n- Only base questions on explicit information in the document. Do not speculate, add external knowledge, or assume additional details about Satoshi or Bitcoin.\\n- Ensure questions are specific to unique aspects of the document (e.g., opinions, mentions, technical details, timelines) to test precise retrieval, but keep them broad enough to sound like real user queries.\\n- Avoid vague, overly broad, or clarifying questions (e.g., no \\'Can you explain more about...?\\'). Focus on factual, opinion-based, or existence questions like \\'What was Satoshi\\'s view on...?\\' or \\'Did Satoshi mention...?\\'\\n- Promote diversity: Include a mix of question types (e.g., 2-3 what/why/how, 1-2 yes/no, 1-2 timeline-based) and cover different parts of the document without repetition.\\n- Do not generate questions that could be answered by many documents; tie them subtly to this one\\'s content for evaluation purposes.\\n\\nYour output should be in JSON format, using the following schema:\\n```\\n{\\n    \"useless_to_recall\": boolean,\\n    \"questions\": [\"string 1\", \"string 2\", ...]\\n}\\n```'"
      ]
     },
     "execution_count": 6,
     "metadata": {},
     "output_type": "execute_result"
    }
   ],
   "source": [
    "prompt_template.render(email=\"blabla\")"
   ]
  },
  {
   "cell_type": "code",
   "execution_count": 7,
   "id": "d9950279",
   "metadata": {},
   "outputs": [],
   "source": [
    "class GeneratedQuestions(BaseModel):\n",
    "    useless_to_recall: bool\n",
    "    questions: list[str]"
   ]
  },
  {
   "cell_type": "markdown",
   "id": "56eab87a",
   "metadata": {},
   "source": [
    "# LLM Setup\n",
    "tracing, async, caching etc..."
   ]
  },
  {
   "cell_type": "code",
   "execution_count": 8,
   "id": "c13c8e9d",
   "metadata": {},
   "outputs": [],
   "source": [
    "from dotenv import load_dotenv\n",
    "load_dotenv()\n",
    "\n",
    "from langfuse.openai import AsyncOpenAI\n",
    "\n",
    "from diskcache_decorator import cached"
   ]
  },
  {
   "cell_type": "code",
   "execution_count": 9,
   "id": "bd9200d5",
   "metadata": {},
   "outputs": [],
   "source": [
    "def _msg(role, content):\n",
    "    # simple helper function to create a message object\n",
    "    return {\"role\": role, \"content\": content}\n",
    "\n",
    "def system(content):\n",
    "    return _msg(\"system\", content)\n",
    "\n",
    "def user(content):\n",
    "    return _msg(\"user\", content)\n",
    "\n",
    "def assistant(content):\n",
    "    return _msg(\"assistant\", content)"
   ]
  },
  {
   "cell_type": "code",
   "execution_count": 10,
   "id": "e9dee126",
   "metadata": {},
   "outputs": [],
   "source": [
    "client = AsyncOpenAI(\n",
    "    base_url=\"http://localhost:11434/v1\",  # Ollama's default local endpoint\n",
    "    api_key=\"ollama\"  # Dummy key, required but not used by Ollama\n",
    ")\n"
   ]
  },
  {
   "cell_type": "code",
   "execution_count": 11,
   "id": "ffad03e4",
   "metadata": {},
   "outputs": [
    {
     "name": "stdout",
     "output_type": "stream",
     "text": [
      "name='Science Fair' date='Friday' participants=['Alice', 'Bob']\n"
     ]
    }
   ],
   "source": [
    "@cached()\n",
    "async def get_completion(messages, response_format):\n",
    "    completion = await client.chat.completions.parse(\n",
    "        model=\"llama3.2:3b\",\n",
    "        messages=messages,\n",
    "        response_format=response_format\n",
    "    )\n",
    "    return completion.choices[0].message.parsed\n",
    "\n",
    "\n",
    "# sanity check:\n",
    "\n",
    "class CalendarEvent(BaseModel):\n",
    "    name: str\n",
    "    date: str\n",
    "    participants: list[str]\n",
    "\n",
    "messages = [\n",
    "            system(\"Extract the event information.\"),\n",
    "            user(\"Alice and Bob are going to a science fair on Friday.\")\n",
    "        ]\n",
    "\n",
    "parsed = await get_completion(messages, CalendarEvent)\n",
    "\n",
    "print(parsed)"
   ]
  },
  {
   "cell_type": "markdown",
   "id": "4fa9bc4d",
   "metadata": {},
   "source": [
    "# Iterate on the Prompt"
   ]
  },
  {
   "cell_type": "code",
   "execution_count": 12,
   "id": "a1eaa8e7",
   "metadata": {},
   "outputs": [
    {
     "name": "stdout",
     "output_type": "stream",
     "text": [
      "Quote from: bdonlan on July 15, 2010, 11:27:14 PMin 120DPI mode.What is \"120DPI mode\"?Â  Is that an actual setting somewhere?Â  Sounds like an obscure enough candidate.Â  I suppose it needs twice the resolution icon to fill the size of the upper left corner icon.Â  Only one size is provided.\n",
      "Re: \"SetIcons(): icon bundle doesn't contain any suitable icon\"\n",
      "July 15, 2010 at 23:41:23 UTC\n",
      "BitcoinTalk\n"
     ]
    }
   ],
   "source": [
    "email = emails.iloc[173].content\n",
    "\n",
    "print(email)\n",
    "\n",
    "prompt = prompt_template.render(email=email)"
   ]
  },
  {
   "cell_type": "code",
   "execution_count": 13,
   "id": "ca194f7f",
   "metadata": {},
   "outputs": [
    {
     "name": "stdout",
     "output_type": "stream",
     "text": [
      "False\n"
     ]
    },
    {
     "data": {
      "text/plain": [
       "['What is the purpose of setting a specific DPI mode for icons in Bitcoin software?',\n",
       " 'Did bdonlan mention a particular reason why he was unable to find suitable icons for the Bitcoin bundle?',\n",
       " 'In what year did Satoshi Nakamoto first post about using icons in Bitcoin.',\n",
       " \"What does '120DPI mode' refer to specifically?\",\n",
       " 'Is there any direct relationship between DPI mode and the development of Bitcoin?',\n",
       " 'Can bitcon software handle different DPI modes?',\n",
       " 'Was bdonlan able to resolve his issue with setting icon bundles?']"
      ]
     },
     "execution_count": 13,
     "metadata": {},
     "output_type": "execute_result"
    }
   ],
   "source": [
    "completion = await get_completion(\n",
    "    messages=[user(prompt)],\n",
    "    response_format=GeneratedQuestions\n",
    ")\n",
    "\n",
    "print(completion.useless_to_recall)\n",
    "\n",
    "completion.questions"
   ]
  },
  {
   "cell_type": "code",
   "execution_count": 14,
   "id": "689db0aa",
   "metadata": {},
   "outputs": [
    {
     "data": {
      "text/plain": [
       "'From: | Satoshi Nakamoto | Subject: | [bitcoin-list] Bitcoin 0.2 released | Date: | December 17, 2009 at 06:52:09 UTC\\nBitcoin 0.2 is here!\\nDownload (Windows, and now Linux version available)\\nhttp://sourceforge.net/projects/bitcoin/files/\\nNew Features\\nMartti Malmi\\n- Minimize to system tray option\\n- Autostart on boot option so you can keep it running in the\\nbackground automatically\\n- New options dialog layout for future expansion\\n- Setup program for Windows\\n- Linux version (tested on Ubuntu)\\nSatoshi Nakamoto\\n- Multi-processor support for coin generation\\n- Proxy support for use with TOR\\n- Fixed some slowdowns in the initial block download\\nWe also have a new forum at http://www.bitcoin.org/smf/\\nMany thanks to Martti (sirius-m) for all his development work, and to\\nNew Liberty Standard for his help with testing the Linux version.\\nSatoshi Nakamoto\\n[bitcoin-list] Bitcoin 0.2 released\\nbitcoin-list'"
      ]
     },
     "execution_count": 14,
     "metadata": {},
     "output_type": "execute_result"
    }
   ],
   "source": [
    "emails.iloc[8].content"
   ]
  },
  {
   "cell_type": "markdown",
   "id": "d186fad9",
   "metadata": {},
   "source": [
    "## Batching Calls\n",
    "\n",
    "With above code we would have to manually change the document index, run the cells over and over... "
   ]
  },
  {
   "cell_type": "code",
   "execution_count": 15,
   "id": "75d70845",
   "metadata": {},
   "outputs": [],
   "source": [
    "import traceback\n",
    "import asyncio\n",
    "\n",
    "async def try_the_prompt(i):\n",
    "    email = emails.iloc[i].content\n",
    "    prompt = prompt_template.render(email=email)\n",
    "    completion = await get_completion(messages=[user(prompt)], response_format=GeneratedQuestions)\n",
    "    return completion.useless_to_recall, completion.questions, email\n",
    "\n",
    "\n",
    "async def maybe_try_the_prompt(i):\n",
    "    try:\n",
    "        return await try_the_prompt(i)\n",
    "    except Exception as e:\n",
    "        return (i, e, traceback.format_exc())"
   ]
  },
  {
   "cell_type": "code",
   "execution_count": 19,
   "id": "ffe91192",
   "metadata": {},
   "outputs": [
    {
     "name": "stderr",
     "output_type": "stream",
     "text": [
      "1 validation error for GeneratedQuestions\n",
      "  Invalid JSON: EOF while parsing a string at line 9 column 8 [type=json_invalid, input_value='{\\n    \"useless_to_recal...n 0.3.17?\",\\n\\n    \"]}}', input_type=str]\n",
      "    For further information visit https://errors.pydantic.dev/2.11/v/json_invalid\n",
      "1 validation error for GeneratedQuestions\n",
      "  Invalid JSON: EOF while parsing a string at line 11 column 7 [type=json_invalid, input_value='{\\n\\n    \"useless_to_rec...put style?\",\\n\\n    \"]}', input_type=str]\n",
      "    For further information visit https://errors.pydantic.dev/2.11/v/json_invalid\n"
     ]
    },
    {
     "name": "stdout",
     "output_type": "stream",
     "text": [
      "len(failed)=2\n"
     ]
    }
   ],
   "source": [
    "# Limit concurrency to avoid overwhelming file descriptors (Windows limit ~512)\n",
    "SEM_LIMIT = 20  # Adjust based on your system; start low and test\n",
    "\n",
    "async def bounded_try(i, sem):\n",
    "    async with sem:\n",
    "        return await maybe_try_the_prompt(i)\n",
    "\n",
    "sem = asyncio.Semaphore(SEM_LIMIT)\n",
    "tasks = [bounded_try(i, sem) for i in range(len(emails))]\n",
    "\n",
    "results = await asyncio.gather(*tasks)\n",
    "\n",
    "failed = [r for r in results if isinstance(r, tuple) and len(r) == 3 and isinstance(r[1], Exception)]\n",
    "print(f\"{len(failed)=}\")"
   ]
  },
  {
   "cell_type": "code",
   "execution_count": 17,
   "id": "6016d489",
   "metadata": {},
   "outputs": [
    {
     "data": {
      "text/plain": [
       "range(0, 846)"
      ]
     },
     "execution_count": 17,
     "metadata": {},
     "output_type": "execute_result"
    }
   ],
   "source": [
    "range(len(emails))"
   ]
  },
  {
   "cell_type": "code",
   "execution_count": 18,
   "id": "c89e7cd3",
   "metadata": {},
   "outputs": [
    {
     "data": {
      "text/plain": [
       "[(False,\n",
       "  [\"What is mentioned with regards to Bitcoin's version number in these emails?\",\n",
       "   'Was Bitcoin v0.1 released on Jan 8, 2009?',\n",
       "   'When was the v0.1 release of Bitcoin?'],\n",
       "  'Emails\\nBitcoin P2P e-cash paperOct 31, 2008, 18:10:00 UTCBitcoin P2P e-cash paperNov 3, 2008, 01:37:43 UTCBitcoin P2P e-cash paperNov 3, 2008, 16:23:49 UTCBitcoin P2P e-cash paperNov 6, 2008, 20:15:40 UTCBitcoin P2P e-cash paperNov 8, 2008, 18:54:38 UTCBitcoin P2P e-cash paperNov 9, 2008, 01:58:48 UTCBitcoin P2P e-cash paperNov 9, 2008, 03:09:49 UTCBitcoin P2P e-cash paperNov 9, 2008, 16:31:26 UTCBitcoin P2P e-cash paperNov 10, 2008, 02:14:30 UTCBitcoin P2P e-cash paperNov 10, 2008, 22:18:20 UTCBitcoin P2P e-cash paperNov 13, 2008, 22:56:55 UTCBitcoin P2P e-cash paperNov 14, 2008, 18:55:35 UTCBitcoin P2P e-cash paperNov 15, 2008, 04:43:00 UTCBitcoin P2P e-cash paperNov 15, 2008, 18:02:00 UTCBitcoin P2P e-cash paperNov 17, 2008, 17:24:43 UTCBitcoin v0.1 releasedJan 8, 2009, 19:27:40 UTCBitcoin v0.1 releasedJan 16, 2009, 16:03:14 UTCBitcoin v0.1 releasedJan 25, 2009, 15:47:10 UTC'),\n",
       " (False,\n",
       "  [\"What was the release date of Bitcoin's open source implementation of P2P currency?\",\n",
       "   'Did Satoshi Nakamoto release a version of Bitcoin on February 13, 2009?',\n",
       "   'What specific features or milestones did Bitcoin v0.1 introduce?'],\n",
       "  'Emails\\n[p2p-research] Bitcoin open source implementation of P2P currencyFeb 11, 2009, 22:37:54 UTC[p2p-research] Bitcoin open source implementation of P2P currencyFeb 12, 2009, 19:08:24 UTC[p2p-research] Bitcoin open source implementation of P2P currencyFeb 13, 2009, 02:38:20 UTC[p2p-research] Bitcoin open source implementation of P2P currencyFeb 13, 2009, 18:36:45 UTC[p2p-research] Bitcoin P2P e-currency v0.1 releasedFeb 13, 2009, 18:52:41 UTC'),\n",
       " (False,\n",
       "  [\"What is Satoshi Nakamoto's view on using cryptography to solve political problems?\",\n",
       "   'Did Satoshi mention the vulnerability of centrally controlled networks and P2P networks like Napster, Gnutella, and Tor?',\n",
       "   'What major battle in the arms race did Satoshi Nakamoto foresee being won by cryptographers?'],\n",
       "  'From: | Satoshi Nakamoto | Subject: | Bitcoin P2P e-cash paper | Date: | November 6, 2008 at 20:15:40 UTC\\n>[Lengthy exposition of vulnerability of a systm to use-of-force\\n>monopolies ellided.]\\n>\\n>You will not find a solution to political problems in cryptography.\\nYes, but we can win a major battle in the arms race and gain a new territory of freedom for several years.\\nGovernments are good at cutting off the heads of a centrally controlled networks like Napster, but pure P2P networks like Gnutella and Tor seem to be holding their own.\\nSatoshi\\n---------------------------------------------------------------------\\nThe Cryptography Mailing List\\nUnsubscribe by sending \"unsubscribe cryptography\" to majordomo at metzdowd.com\\nBitcoin P2P e-cash paper\\nCryptography Mailing List'),\n",
       " (False,\n",
       "  ['Was Bitcoin introduced as a form of payment?',\n",
       "   'What was the subject line of the email sent to the bitcoin-list in December 2008?',\n",
       "   'Did Satoshi express interest in cryptography and peer-to-peer networks after receiving a PGP private key?',\n",
       "   \"Is this the first documentation from Satoshi regarding Bitcoin's creation? \",\n",
       "   \"What date and time was the document 'sent at' (12/10/08 17:00:23 UTC)?\"],\n",
       "  'From: | Satoshi Nakamoto | Subject: | [bitcoin-list] Welcome | Date: | December 10, 2008 at 17:00:23 UTC\\nWelcome to the Bitcoin mailing list!\\n[bitcoin-list] Welcome\\nbitcoin-list'),\n",
       " (False,\n",
       "  [\"Was the development of Bitcoin affected by the Internet's challenges?\",\n",
       "   'What was the main problem Satoshi faced with node connections in the early development of Bitcoin?',\n",
       "   'Did the problems with node connections get worse as more users joined the network?',\n",
       "   'Why were new nodes unable to see other nodes until the wild Internet could be tested?',\n",
       "   'In what specific ways did Saturno Nakamoto improve node connectivity in Bitcoin?'],\n",
       "  \"From: | Satoshi Nakamoto | Subject: | [bitcoin-list] Bitcoin v0.1.2 now available | Date: | January 11, 2009 at 22:32:18 UTC\\nBitcoin v0.1.2 is now available for download.\\nSee http://www.bitcoin.org for the download link.\\nAll the problems I've been finding are in the code that\\nautomatically finds and connects to other nodes, since I wasn't\\nable to test it in the wild until now.  There are many more ways\\nfor connections to get screwed up on the real Internet.\\nBugs fixed:\\n- Fixed various problems that were making it hard for new nodes to\\nsee other nodes to connect to.\\n- If you're behind a firewall, it could only receive one\\nconnection, and the second connection would constantly disconnect\\nand reconnect.\\nThese problems are kind of screwing up the network and will get\\nworse as more users arrive, so please make sure to upgrade.\\nSatoshi Nakamoto\\n[bitcoin-list] Bitcoin v0.1.2 now available\\nbitcoin-list\"),\n",
       " (False,\n",
       "  ['What does Satoshi Nakamoto recommend for troubleshooting Bitcoin issues?',\n",
       "   'Was the debug.log file sent to a specific mailing address by Nicholas Bohm, and what was its purpose?',\n",
       "   'Can the problems Nicholas Bohm reported being caused by attachments instead of sending the log file directly?'],\n",
       "  \"From: | Satoshi Nakamoto | Subject: | Re: [bitcoin-list] Problems | Date: | January 25, 2009 at 16:45:25 UTC\\nFrom: Nicholas Bohm 2009-01-25 10:17\\n> I have had a couple of problems running bitcoin: is this an appropriate\\n> list for reporting them (with about 70kb of attachments)?\\nWhat's the problem you're having?\\nIf you send me your debug.log file directly (best not to send attachments\\nto the list), I can take a look at what's happening.\\nSatoshi Nakamoto\\nbitcoin-help at vistomail dot com\\nRe: [bitcoin-list] Problems\\nbitcoin-list\"),\n",
       " (False,\n",
       "  [\"How operational is Satoshi's project?\",\n",
       "   'What motivated Satoshi to send Bitcoin coins to interested users?',\n",
       "   'Is Bitcoin a fully decentralized currency?',\n",
       "   'What was the timeline for the release introduction of Bitcoin?',\n",
       "   'Will people be able to use Bitcoin in real life soon?',\n",
       "   'Did Satoshi mention any specific plans or goals for the P2P network?'],\n",
       "  \"From: | Satoshi Nakamoto | Subject: | [p2p-research] Bitcoin open source implementation of P2P currency | Date: | February 13, 2009 at 18:36:45 UTC\\nMichel Bauwens wrote:\\n>\\nhow operational is your project? how soon do you think people will be\\n>\\nable to use it in real life?\\nIt's fully operational and the network is growing.  If you try the\\nsoftware, e-mail me your Bitcoin address and I'll send you a few coins.\\nWe just need to spread the word and keep getting more people interested.\\nI'll forward the release introduction in the next message.\\nSatoshi\\nhttp://www.bitcoin.org\\n[p2p-research] Bitcoin open source implementation of P2P currency\\nP2P Research List\"),\n",
       " (False,\n",
       "  [\"What was Satoshi's plan to improve block generation speed in Bitcoin?\",\n",
       "   'Did Satoshi mention the type of processor that can take advantage of multiple cores?',\n",
       "   'When did Satoshi release a new version of Bitcoin that incorporated multi-core processing?'],\n",
       "  \"From: | Satoshi Nakamoto | Subject: | Re: [bitcoin-list] Bitcoin v0.1.5 released | Date: | February 22, 2009 at 17:47:52 UTC\\n> What's next?\\nThe next thing for v0.1.6 is to take advantage of multiple\\nprocessors to generate blocks.  Currently it only starts one\\nthread.  If you have a multi-core processor like a Core Duo or\\nQuad this will double or quadruple your production.\\nLater I want to add interfaces to make it really easy to integrate\\ninto websites from any server side language.\\nSatoshi\\nhttp://www.bitcoin.org\\nRe: [bitcoin-list] Bitcoin v0.1.5 released\\nbitcoin-list\"),\n",
       " (False,\n",
       "  [\"What was Satoshi Nakamoto's view on implementing minimization to system tray options in Bitcoin?\",\n",
       "   'Did Satoshi mention using TOR for proxy support with the early version of Bitcoin?',\n",
       "   'When did the Linux version of Bitcoin become available?',\n",
       "   'Did New Liberty Standard test the new setup program for Windows?',\n",
       "   'At what time did Bitcoin 0.2 get released?',\n",
       "   \"What were some specific features added to Bitcoin's options dialog layout in version 0.2?\"],\n",
       "  'From: | Satoshi Nakamoto | Subject: | [bitcoin-list] Bitcoin 0.2 released | Date: | December 17, 2009 at 06:52:09 UTC\\nBitcoin 0.2 is here!\\nDownload (Windows, and now Linux version available)\\nhttp://sourceforge.net/projects/bitcoin/files/\\nNew Features\\nMartti Malmi\\n- Minimize to system tray option\\n- Autostart on boot option so you can keep it running in the\\nbackground automatically\\n- New options dialog layout for future expansion\\n- Setup program for Windows\\n- Linux version (tested on Ubuntu)\\nSatoshi Nakamoto\\n- Multi-processor support for coin generation\\n- Proxy support for use with TOR\\n- Fixed some slowdowns in the initial block download\\nWe also have a new forum at http://www.bitcoin.org/smf/\\nMany thanks to Martti (sirius-m) for all his development work, and to\\nNew Liberty Standard for his help with testing the Linux version.\\nSatoshi Nakamoto\\n[bitcoin-list] Bitcoin 0.2 released\\nbitcoin-list'),\n",
       " (False,\n",
       "  ['What specific bug did Satoshi Nakamoto mention in the upgrade to bitcoin 0.3.6?',\n",
       "   'When was the version bitcoin 0.3.6 released?',\n",
       "   'Did Satoshi recommend downloading links directly from the bitcoin.org homepage as mentioned in the email?'],\n",
       "  'From: | Satoshi Nakamoto | Subject: | [bitcoin-list] Alert: upgrade to bitcoin 0.3.6 | Date: | July 30, 2010 at 06:02:38 UTC\\nPlease upgrade to 0.3.6 ASAP to get an important bugfix.\\nSee the bitcoin.org homepage for download links.\\n[bitcoin-list] Alert: upgrade to bitcoin 0.3.6\\nbitcoin-list')]"
      ]
     },
     "execution_count": 18,
     "metadata": {},
     "output_type": "execute_result"
    }
   ],
   "source": [
    "results"
   ]
  },
  {
   "cell_type": "code",
   "execution_count": null,
   "id": "c5dce68a",
   "metadata": {},
   "outputs": [],
   "source": []
  }
 ],
 "metadata": {
  "kernelspec": {
   "display_name": "venv",
   "language": "python",
   "name": "python3"
  },
  "language_info": {
   "codemirror_mode": {
    "name": "ipython",
    "version": 3
   },
   "file_extension": ".py",
   "mimetype": "text/x-python",
   "name": "python",
   "nbconvert_exporter": "python",
   "pygments_lexer": "ipython3",
   "version": "3.11.1"
  }
 },
 "nbformat": 4,
 "nbformat_minor": 5
}
