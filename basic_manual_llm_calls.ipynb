{
 "cells": [
  {
   "cell_type": "markdown",
   "id": "48551ab7",
   "metadata": {},
   "source": [
    "Ollama via OpenAI API"
   ]
  },
  {
   "cell_type": "code",
   "execution_count": 1,
   "id": "6c27e8e6",
   "metadata": {},
   "outputs": [],
   "source": [
    "from openai import OpenAI\n",
    "from pprint import pprint"
   ]
  },
  {
   "cell_type": "code",
   "execution_count": 2,
   "id": "01ff5e78",
   "metadata": {},
   "outputs": [],
   "source": [
    "def _msg(role, content):\n",
    "    # simple helper function to create a message object\n",
    "    return {\"role\": role, \"content\": content}\n",
    "\n",
    "def system(content):\n",
    "    return _msg(\"system\", content)\n",
    "\n",
    "def user(content):\n",
    "    return _msg(\"user\", content)\n",
    "\n",
    "def assistant(content):\n",
    "    return _msg(\"assistant\", content)"
   ]
  },
  {
   "cell_type": "code",
   "execution_count": 3,
   "id": "555b5c0f",
   "metadata": {},
   "outputs": [],
   "source": [
    "chat_history = [\n",
    "    system(\"You are a helpful assistant that can answer questions and help with tasks.\"),\n",
    "    user(\"What is the capital of France?\"),\n",
    "    assistant(\"The capital of France is Paris.\"),\n",
    "    user(\"What is the capital of Germany?\"),\n",
    "]"
   ]
  },
  {
   "cell_type": "code",
   "execution_count": 4,
   "id": "80c70886",
   "metadata": {},
   "outputs": [],
   "source": [
    "# Initialize the OpenAI client to point to Ollama's API\n",
    "client = OpenAI(\n",
    "    base_url=\"http://localhost:11434/v1\",  # Ollama's default local endpoint\n",
    "    api_key=\"ollama\"  # Dummy key, required but not used by Ollama\n",
    ")\n",
    "\n",
    "completion = client.chat.completions.create(\n",
    "    messages=chat_history,\n",
    "    model=\"llama3.2:3b\",\n",
    ")"
   ]
  },
  {
   "cell_type": "code",
   "execution_count": 5,
   "id": "f643a3a3",
   "metadata": {},
   "outputs": [
    {
     "data": {
      "text/plain": [
       "ChatCompletion(id='chatcmpl-73', choices=[Choice(finish_reason='stop', index=0, logprobs=None, message=ChatCompletionMessage(content='The capital of Germany is Berlin.', refusal=None, role='assistant', annotations=None, audio=None, function_call=None, tool_calls=None))], created=1754722119, model='llama3.2:3b', object='chat.completion', service_tier=None, system_fingerprint='fp_ollama', usage=CompletionUsage(completion_tokens=8, prompt_tokens=70, total_tokens=78, completion_tokens_details=None, prompt_tokens_details=None))"
      ]
     },
     "execution_count": 5,
     "metadata": {},
     "output_type": "execute_result"
    }
   ],
   "source": [
    "completion"
   ]
  },
  {
   "cell_type": "code",
   "execution_count": 6,
   "id": "0a646dd9",
   "metadata": {},
   "outputs": [],
   "source": [
    "chat_history.append(assistant(completion.choices[0].message.content))\n"
   ]
  },
  {
   "cell_type": "code",
   "execution_count": 7,
   "id": "ce1ef99a",
   "metadata": {},
   "outputs": [
    {
     "name": "stdout",
     "output_type": "stream",
     "text": [
      "[{'content': 'You are a helpful assistant that can answer questions and help '\n",
      "             'with tasks.',\n",
      "  'role': 'system'},\n",
      " {'content': 'What is the capital of France?', 'role': 'user'},\n",
      " {'content': 'The capital of France is Paris.', 'role': 'assistant'},\n",
      " {'content': 'What is the capital of Germany?', 'role': 'user'},\n",
      " {'content': 'The capital of Germany is Berlin.', 'role': 'assistant'}]\n"
     ]
    }
   ],
   "source": [
    "pprint(chat_history)"
   ]
  },
  {
   "cell_type": "markdown",
   "id": "314d7878",
   "metadata": {},
   "source": [
    "# Asynchronous Calls"
   ]
  },
  {
   "cell_type": "code",
   "execution_count": 8,
   "id": "bc3b7c48",
   "metadata": {},
   "outputs": [],
   "source": [
    "from openai import AsyncOpenAI\n",
    "import asyncio"
   ]
  },
  {
   "cell_type": "code",
   "execution_count": 9,
   "id": "b5114a6e",
   "metadata": {},
   "outputs": [],
   "source": [
    "client = AsyncOpenAI(\n",
    "    base_url=\"http://localhost:11434/v1\",  # Ollama's default local endpoint\n",
    "    api_key=\"ollama\" \n",
    ")\n",
    "\n",
    "chat_history = [\n",
    "    system(\"You are a helpful assistant that can answer questions and help with tasks.\"),\n",
    "    user(\"What is the capital of France?\"),\n",
    "    assistant(\"The capital of France is Paris.\"),\n",
    "    user(\"What is the capital of Germany?\"),\n",
    "]\n"
   ]
  },
  {
   "cell_type": "code",
   "execution_count": 10,
   "id": "8dce3017",
   "metadata": {},
   "outputs": [],
   "source": [
    "completion_1 = client.chat.completions.create(\n",
    "    messages=chat_history,\n",
    "    model=\"llama3.2:3b\",\n",
    "    max_tokens=100,\n",
    ")\n",
    "\n",
    "completion_2 = client.chat.completions.create(\n",
    "    messages=chat_history,\n",
    "    model=\"llama3.2:3b\",\n",
    "    max_tokens=100,\n",
    ")"
   ]
  },
  {
   "cell_type": "code",
   "execution_count": 11,
   "id": "92a5b828",
   "metadata": {},
   "outputs": [],
   "source": [
    "completions = await asyncio.gather(completion_1, completion_2)"
   ]
  },
  {
   "cell_type": "code",
   "execution_count": 12,
   "id": "bb09509a",
   "metadata": {},
   "outputs": [
    {
     "data": {
      "text/plain": [
       "[ChatCompletion(id='chatcmpl-176', choices=[Choice(finish_reason='stop', index=0, logprobs=None, message=ChatCompletionMessage(content='The capital of Germany is Berlin.', refusal=None, role='assistant', annotations=None, audio=None, function_call=None, tool_calls=None))], created=1754722120, model='llama3.2:3b', object='chat.completion', service_tier=None, system_fingerprint='fp_ollama', usage=CompletionUsage(completion_tokens=8, prompt_tokens=70, total_tokens=78, completion_tokens_details=None, prompt_tokens_details=None)),\n",
       " ChatCompletion(id='chatcmpl-284', choices=[Choice(finish_reason='stop', index=0, logprobs=None, message=ChatCompletionMessage(content='The capital of Germany is Berlin.', refusal=None, role='assistant', annotations=None, audio=None, function_call=None, tool_calls=None))], created=1754722120, model='llama3.2:3b', object='chat.completion', service_tier=None, system_fingerprint='fp_ollama', usage=CompletionUsage(completion_tokens=8, prompt_tokens=70, total_tokens=78, completion_tokens_details=None, prompt_tokens_details=None))]"
      ]
     },
     "execution_count": 12,
     "metadata": {},
     "output_type": "execute_result"
    }
   ],
   "source": [
    "completions"
   ]
  }
 ],
 "metadata": {
  "kernelspec": {
   "display_name": "venv",
   "language": "python",
   "name": "python3"
  },
  "language_info": {
   "codemirror_mode": {
    "name": "ipython",
    "version": 3
   },
   "file_extension": ".py",
   "mimetype": "text/x-python",
   "name": "python",
   "nbconvert_exporter": "python",
   "pygments_lexer": "ipython3",
   "version": "3.11.1"
  }
 },
 "nbformat": 4,
 "nbformat_minor": 5
}
