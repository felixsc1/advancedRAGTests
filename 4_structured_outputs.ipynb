{
 "cells": [
  {
   "cell_type": "markdown",
   "id": "60f0e25d",
   "metadata": {},
   "source": [
    "## Setup"
   ]
  },
  {
   "cell_type": "code",
   "execution_count": null,
   "id": "7d3c5685",
   "metadata": {},
   "outputs": [],
   "source": [
    "from dotenv import load_dotenv\n",
    "load_dotenv()\n",
    "\n",
    "from langfuse.openai import AsyncOpenAI\n",
    "from pydantic import BaseModel"
   ]
  },
  {
   "cell_type": "code",
   "execution_count": null,
   "id": "60c5ac12",
   "metadata": {},
   "outputs": [],
   "source": [
    "client = AsyncOpenAI(\n",
    "    base_url=\"http://localhost:11434/v1\",  # Ollama's default local endpoint\n",
    "    api_key=\"ollama\", \n",
    ")"
   ]
  },
  {
   "cell_type": "markdown",
   "id": "8898f9c0",
   "metadata": {},
   "source": [
    "## Helpers"
   ]
  },
  {
   "cell_type": "code",
   "execution_count": null,
   "id": "4ed3efb2",
   "metadata": {},
   "outputs": [],
   "source": [
    "def _msg(role, content):\n",
    "    # simple helper function to create a message object\n",
    "    return {\"role\": role, \"content\": content}\n",
    "\n",
    "def system(content):\n",
    "    return _msg(\"system\", content)\n",
    "\n",
    "def user(content):\n",
    "    return _msg(\"user\", content)\n",
    "\n",
    "def assistant(content):\n",
    "    return _msg(\"assistant\", content)"
   ]
  },
  {
   "cell_type": "code",
   "execution_count": null,
   "id": "0aada0e8",
   "metadata": {},
   "outputs": [],
   "source": [
    "class CalendarEvent(BaseModel):\n",
    "    name: str\n",
    "    date: str\n",
    "    participants: list[str]\n",
    "\n",
    "\n",
    "completion = await client.responses.create(\n",
    "    model=\"llama3.2:3b\",\n",
    "    instructions=\"Extract the event information.\",\n",
    "    input=\"Alice and Bob are going to a science fair on Friday.\",\n",
    "    response_format=CalendarEvent,\n",
    ")"
   ]
  }
 ],
 "metadata": {
  "kernelspec": {
   "display_name": "venv",
   "language": "python",
   "name": "python3"
  },
  "language_info": {
   "name": "python",
   "version": "3.11.1"
  }
 },
 "nbformat": 4,
 "nbformat_minor": 5
}
