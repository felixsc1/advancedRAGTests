{
 "cells": [
  {
   "cell_type": "code",
   "execution_count": 2,
   "id": "8103976f",
   "metadata": {},
   "outputs": [],
   "source": [
    "from openai import RateLimitError, APITimeoutError\n",
    "from openai import AsyncOpenAI\n",
    "from tenacity import retry, wait_exponential, retry_if_exception_type\n"
   ]
  },
  {
   "cell_type": "code",
   "execution_count": null,
   "id": "c7766388",
   "metadata": {},
   "outputs": [],
   "source": [
    "client = AsyncOpenAI(\n",
    "    base_url=\"http://localhost:11434/v1\",  # Ollama's default local endpoint\n",
    "    api_key=\"ollama\", \n",
    ")"
   ]
  },
  {
   "cell_type": "code",
   "execution_count": null,
   "id": "b3761ff5",
   "metadata": {},
   "outputs": [],
   "source": [
    "@retry(wait=wait_exponential(), retry=retry_if_exception_type((RateLimitError, APITimeoutError)))\n",
    "async def make_call():\n",
    "    return await client.chat.completions.create(\n",
    "        messages=[dict(role=\"user\", content=\"Hello, world!\")],\n",
    "        model=\"llama3.2:3b\",\n",
    "        temperature=0.5,\n",
    "    )"
   ]
  },
  {
   "cell_type": "markdown",
   "id": "6393d215",
   "metadata": {},
   "source": [
    "## Test retry decorator\n",
    "\n",
    "\n",
    "\n",
    "\n",
    "\n",
    "\n",
    "\n",
    "\n",
    "\n"
   ]
  },
  {
   "cell_type": "code",
   "execution_count": 14,
   "id": "3626a159",
   "metadata": {},
   "outputs": [
    {
     "name": "stdout",
     "output_type": "stream",
     "text": [
      "No error\n"
     ]
    }
   ],
   "source": [
    "from random import randint\n",
    "\n",
    "class FakeRateLimitError(RateLimitError):\n",
    "    def __init__(self):\n",
    "        pass\n",
    "\n",
    "try:\n",
    "    if randint(0, 10) < 5:\n",
    "        raise FakeRateLimitError()\n",
    "    else:\n",
    "        print(\"No error\")\n",
    "except RateLimitError:\n",
    "    print(\"Rate limit error\")\n"
   ]
  },
  {
   "cell_type": "code",
   "execution_count": 24,
   "id": "c1019680",
   "metadata": {},
   "outputs": [],
   "source": [
    "@retry(wait=wait_exponential(), retry=retry_if_exception_type((RateLimitError, APITimeoutError)))\n",
    "async def make_call():\n",
    "    print(\"Making call\")\n",
    "    if randint(0, 10) < 5:\n",
    "        print(\"Raising fake rate limit error\")\n",
    "        raise FakeRateLimitError()\n",
    "    return await client.chat.completions.create(\n",
    "        messages=[dict(role=\"user\", content=\"Hello, world!\")],\n",
    "        model=\"llama3.2:3b\",\n",
    "        temperature=0.5,\n",
    "    )"
   ]
  },
  {
   "cell_type": "code",
   "execution_count": null,
   "id": "0933ec0c",
   "metadata": {},
   "outputs": [
    {
     "name": "stdout",
     "output_type": "stream",
     "text": [
      "Making call\n",
      "Raising fake rate limit error\n"
     ]
    },
    {
     "name": "stderr",
     "output_type": "stream",
     "text": [
      "INFO:openai._base_client:Retrying request to /chat/completions in 0.456255 seconds\n"
     ]
    },
    {
     "name": "stdout",
     "output_type": "stream",
     "text": [
      "Making call\n"
     ]
    },
    {
     "name": "stderr",
     "output_type": "stream",
     "text": [
      "INFO:openai._base_client:Retrying request to /chat/completions in 0.955874 seconds\n",
      "INFO:openai._base_client:Retrying request to /chat/completions in 0.442340 seconds\n"
     ]
    },
    {
     "name": "stdout",
     "output_type": "stream",
     "text": [
      "Making call\n"
     ]
    },
    {
     "name": "stderr",
     "output_type": "stream",
     "text": [
      "INFO:openai._base_client:Retrying request to /chat/completions in 0.911370 seconds\n"
     ]
    },
    {
     "name": "stdout",
     "output_type": "stream",
     "text": [
      "Making call\n",
      "Raising fake rate limit error\n"
     ]
    },
    {
     "name": "stderr",
     "output_type": "stream",
     "text": [
      "INFO:openai._base_client:Retrying request to /chat/completions in 0.405406 seconds\n"
     ]
    },
    {
     "name": "stdout",
     "output_type": "stream",
     "text": [
      "Making call\n"
     ]
    },
    {
     "name": "stderr",
     "output_type": "stream",
     "text": [
      "INFO:openai._base_client:Retrying request to /chat/completions in 0.868968 seconds\n",
      "INFO:openai._base_client:Retrying request to /chat/completions in 0.437588 seconds\n"
     ]
    },
    {
     "name": "stdout",
     "output_type": "stream",
     "text": [
      "Making call\n"
     ]
    },
    {
     "name": "stderr",
     "output_type": "stream",
     "text": [
      "INFO:openai._base_client:Retrying request to /chat/completions in 0.753954 seconds\n"
     ]
    }
   ],
   "source": [
    "completion = await make_call()"
   ]
  }
 ],
 "metadata": {
  "kernelspec": {
   "display_name": "venv",
   "language": "python",
   "name": "python3"
  },
  "language_info": {
   "codemirror_mode": {
    "name": "ipython",
    "version": 3
   },
   "file_extension": ".py",
   "mimetype": "text/x-python",
   "name": "python",
   "nbconvert_exporter": "python",
   "pygments_lexer": "ipython3",
   "version": "3.11.1"
  }
 },
 "nbformat": 4,
 "nbformat_minor": 5
}
